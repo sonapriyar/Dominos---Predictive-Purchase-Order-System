{
 "cells": [
  {
   "cell_type": "code",
   "execution_count": 6,
   "metadata": {},
   "outputs": [
    {
     "name": "stdout",
     "output_type": "stream",
     "text": [
      "Purchase order saved to 'purchase_order.csv'.\n",
      "Empty DataFrame\n",
      "Columns: [Ingredient, Required Quantity (grams), Supplier, Order Date]\n",
      "Index: []\n"
     ]
    }
   ],
   "source": [
    "import pandas as pd\n",
    "import joblib\n",
    "\n",
    "# Load the trained model (assuming it's a time series model like ARIMA)\n",
    "model = joblib.load(r\"C:\\Users\\sonur\\OneDrive\\Desktop\\Projects\\Donimos\\Models\\sarima_model.pkl\")  # Replace with your model filename\n",
    "\n",
    "# Define the prediction period (next week)\n",
    "future_dates = pd.date_range(start=pd.to_datetime('today'), periods=7)\n",
    "\n",
    "# Use the model to forecast\n",
    "# This assumes your model was fitted on the historical data already\n",
    "predictions = model.forecast(steps=len(future_dates))\n",
    "\n",
    "# Create a DataFrame for the predicted sales\n",
    "predicted_sales_df = pd.DataFrame(predictions, columns=['Predicted Sales'], index=future_dates)\n",
    "\n",
    "# Calculate the total predicted sales for the week\n",
    "total_predicted_sales = predicted_sales_df['Predicted Sales'].sum()\n",
    "\n",
    "# Load the ingredient dataset\n",
    "ingredient_data = pd.read_csv(r\"C:\\Users\\sonur\\OneDrive\\Desktop\\Projects\\Donimos\\Raw data\\Pizza_ingrediants.csv\")\n",
    "ingredient_data.columns = ingredient_data.columns.str.strip()\n",
    "\n",
    "# Calculate required ingredient quantities\n",
    "ingredient_requirements = {}\n",
    "\n",
    "# Loop through each row in the ingredient data\n",
    "for index, row in ingredient_data.iterrows():\n",
    "    pizza_id = row['pizza_name_id']\n",
    "    ingredient_name = row['pizza_ingredients']\n",
    "    quantity_needed = row['Items_Qty_In_Grams']\n",
    "    \n",
    "    # Check if the pizza ID is in the predictions (assuming pizza IDs are tracked in some way)\n",
    "    # You might want to adjust this part depending on your sales prediction logic\n",
    "    if pizza_id in predicted_sales_df.index:  # Update condition as needed\n",
    "        # Calculate total quantity of ingredient required\n",
    "        total_quantity = total_predicted_sales * quantity_needed\n",
    "        \n",
    "        # Store in dictionary\n",
    "        if ingredient_name in ingredient_requirements:\n",
    "            ingredient_requirements[ingredient_name] += total_quantity\n",
    "        else:\n",
    "            ingredient_requirements[ingredient_name] = total_quantity\n",
    "\n",
    "# Convert the results to a DataFrame\n",
    "ingredient_requirements_df = pd.DataFrame(list(ingredient_requirements.items()), columns=['Ingredient', 'Required Quantity (grams)'])\n",
    "\n",
    "# Create a purchase order\n",
    "purchase_order = ingredient_requirements_df.copy()\n",
    "purchase_order['Supplier'] = \"Your Supplier Name\"  # Replace with actual supplier info\n",
    "purchase_order['Order Date'] = pd.to_datetime('today').date()\n",
    "\n",
    "# Save the purchase order to a CSV file\n",
    "purchase_order.to_csv('purchase_order.csv', index=False)\n",
    "print(\"Purchase order saved to 'purchase_order.csv'.\")\n",
    "\n",
    "# Print the purchase order\n",
    "print(purchase_order)\n"
   ]
  }
 ],
 "metadata": {
  "kernelspec": {
   "display_name": "Python 3",
   "language": "python",
   "name": "python3"
  },
  "language_info": {
   "codemirror_mode": {
    "name": "ipython",
    "version": 3
   },
   "file_extension": ".py",
   "mimetype": "text/x-python",
   "name": "python",
   "nbconvert_exporter": "python",
   "pygments_lexer": "ipython3",
   "version": "3.12.3"
  }
 },
 "nbformat": 4,
 "nbformat_minor": 2
}
