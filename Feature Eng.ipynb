{
 "cells": [
  {
   "cell_type": "code",
   "execution_count": 1,
   "metadata": {},
   "outputs": [
    {
     "name": "stderr",
     "output_type": "stream",
     "text": [
      "C:\\Users\\sonur\\AppData\\Local\\Temp\\ipykernel_3652\\1874943283.py:8: UserWarning: Could not infer format, so each element will be parsed individually, falling back to `dateutil`. To ensure parsing is consistent and as-expected, please specify a format.\n",
      "  pizza_sales['order_date'] = pd.to_datetime(pizza_sales['order_date'])\n"
     ]
    },
    {
     "name": "stdout",
     "output_type": "stream",
     "text": [
      "   pizza_id  order_id  pizza_name_id  quantity order_date   order_time  \\\n",
      "0         1         1     hawaiian_m         1 2015-01-01  11:38:36 AM   \n",
      "1         2         2  classic_dlx_m         1 2015-01-01  11:57:40 AM   \n",
      "2         3         2  five_cheese_l         1 2015-01-01  11:57:40 AM   \n",
      "3         4         2    ital_supr_l         1 2015-01-01  11:57:40 AM   \n",
      "4         5         2     mexicana_m         1 2015-01-01  11:57:40 AM   \n",
      "\n",
      "   unit_price  total_price pizza_size pizza_category  \\\n",
      "0       13.25        13.25          M        Classic   \n",
      "1       16.00        16.00          M        Classic   \n",
      "2       18.50        18.50          L         Veggie   \n",
      "3       20.75        20.75          L        Supreme   \n",
      "4       16.00        16.00          M         Veggie   \n",
      "\n",
      "                                   pizza_ingredients  \\\n",
      "0           Sliced Ham, Pineapple, Mozzarella Cheese   \n",
      "1  Pepperoni, Mushrooms, Red Onions, Red Peppers,...   \n",
      "2  Mozzarella Cheese, Provolone Cheese, Smoked Go...   \n",
      "3  Calabrese Salami, Capocollo, Tomatoes, Red Oni...   \n",
      "4  Tomatoes, Red Peppers, Jalapeno Peppers, Red O...   \n",
      "\n",
      "                  pizza_name day_of_week  month  year  promotional_period  \\\n",
      "0         The Hawaiian Pizza    Thursday      1  2015                   0   \n",
      "1   The Classic Deluxe Pizza    Thursday      1  2015                   0   \n",
      "2      The Five Cheese Pizza    Thursday      1  2015                   0   \n",
      "3  The Italian Supreme Pizza    Thursday      1  2015                   0   \n",
      "4         The Mexicana Pizza    Thursday      1  2015                   0   \n",
      "\n",
      "   is_holiday  is_weekend  total_sales_per_month  rolling_sales_7_days  \n",
      "0           0           0               71620.15                   NaN  \n",
      "1           0           0               71620.15                   NaN  \n",
      "2           0           0               71620.15                   NaN  \n",
      "3           0           0               71620.15                   NaN  \n",
      "4           0           0               71620.15                   NaN  \n"
     ]
    }
   ],
   "source": [
    "import pandas as pd\n",
    "import numpy as np\n",
    "\n",
    "# Load the datasets\n",
    "pizza_sales = pd.read_csv(r\"C:\\Users\\sonur\\OneDrive\\Desktop\\Projects\\Donimos\\Raw data\\Pizza_sales.csv\")  # Replace with your actual file path\n",
    "\n",
    "# Ensure 'order_date' is in datetime format\n",
    "pizza_sales['order_date'] = pd.to_datetime(pizza_sales['order_date'])\n",
    "\n",
    "# Create relevant features\n",
    "# 1. Day of the Week\n",
    "pizza_sales['day_of_week'] = pizza_sales['order_date'].dt.day_name()  # e.g., 'Monday'\n",
    "\n",
    "# 2. Month\n",
    "pizza_sales['month'] = pizza_sales['order_date'].dt.month  # e.g., 1 for January\n",
    "\n",
    "# 3. Year\n",
    "pizza_sales['year'] = pizza_sales['order_date'].dt.year  # Extracting the year\n",
    "\n",
    "# 4. Promotional Periods (Example: Assuming promotions run from specific dates)\n",
    "promotional_start_date = pd.to_datetime('2024-06-01')  # Example start date\n",
    "promotional_end_date = pd.to_datetime('2024-06-30')    # Example end date\n",
    "pizza_sales['promotional_period'] = np.where(\n",
    "    (pizza_sales['order_date'] >= promotional_start_date) & \n",
    "    (pizza_sales['order_date'] <= promotional_end_date), \n",
    "    1, 0\n",
    ")\n",
    "\n",
    "# 5. Holiday Effects (Example: Assuming holidays are predefined)\n",
    "holidays = pd.to_datetime(['2024-01-01', '2024-12-25', '2024-11-28'])  # New Year's Day, Christmas, Thanksgiving\n",
    "pizza_sales['is_holiday'] = pizza_sales['order_date'].isin(holidays).astype(int)  # 1 if holiday, else 0\n",
    "\n",
    "# 6. Weekend Indicator\n",
    "pizza_sales['is_weekend'] = np.where(pizza_sales['day_of_week'].isin(['Saturday', 'Sunday']), 1, 0)\n",
    "\n",
    "# 7. Total Sales per Month (Aggregate feature)\n",
    "pizza_sales['total_sales_per_month'] = pizza_sales.groupby(['year', 'month'])['total_price'].transform('sum')\n",
    "\n",
    "# 8. Rolling Mean of Sales (last 7 days)\n",
    "pizza_sales['rolling_sales_7_days'] = pizza_sales['total_price'].rolling(window=7).mean().shift(1)\n",
    "\n",
    "# Display the modified DataFrame with new features\n",
    "print(pizza_sales.head())\n",
    "\n",
    "# Save the modified DataFrame with new features to a CSV file\n",
    "pizza_sales.to_csv('pizza_sales_with_features.csv', index=False)\n"
   ]
  }
 ],
 "metadata": {
  "kernelspec": {
   "display_name": "Python 3",
   "language": "python",
   "name": "python3"
  },
  "language_info": {
   "codemirror_mode": {
    "name": "ipython",
    "version": 3
   },
   "file_extension": ".py",
   "mimetype": "text/x-python",
   "name": "python",
   "nbconvert_exporter": "python",
   "pygments_lexer": "ipython3",
   "version": "3.12.3"
  }
 },
 "nbformat": 4,
 "nbformat_minor": 2
}
