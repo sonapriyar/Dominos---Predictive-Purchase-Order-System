{
 "cells": [
  {
   "cell_type": "code",
   "execution_count": 7,
   "metadata": {},
   "outputs": [
    {
     "name": "stdout",
     "output_type": "stream",
     "text": [
      "Ingredient requirements saved to 'ingredient_requirements.csv'.\n",
      "Empty DataFrame\n",
      "Columns: [Ingredient, Required Quantity (grams)]\n",
      "Index: []\n"
     ]
    }
   ],
   "source": [
    "import pandas as pd\n",
    "\n",
    "# Load the ingredient dataset\n",
    "ingredient_data = pd.read_csv(r\"C:\\Users\\sonur\\OneDrive\\Desktop\\Projects\\Donimos\\Raw data\\Pizza_ingrediants.csv\")\n",
    "\n",
    "# Strip whitespace from column names\n",
    "ingredient_data.columns = ingredient_data.columns.str.strip()\n",
    "\n",
    "# Check if the required columns exist\n",
    "required_columns = ['pizza_name_id', 'pizza_ingredients', 'Items_Qty_In_Grams']\n",
    "if not all(col in ingredient_data.columns for col in required_columns):\n",
    "    raise ValueError(\"Missing required columns in ingredient dataset.\")\n",
    "\n",
    "# Load the forecast results\n",
    "forecast_results = pd.read_csv('weekly_forecast_results.csv', index_col='Date')\n",
    "\n",
    "# Calculate required ingredient quantities\n",
    "ingredient_requirements = {}\n",
    "\n",
    "# Loop through each row in the ingredient data\n",
    "for index, row in ingredient_data.iterrows():\n",
    "    pizza_id = row['pizza_name_id']\n",
    "    ingredient_name = row['pizza_ingredients']\n",
    "    quantity_needed = row['Items_Qty_In_Grams']\n",
    "    \n",
    "    # Check if the pizza ID is in the forecast results\n",
    "    if pizza_id in forecast_results.columns:\n",
    "        # Calculate the total sales for the week\n",
    "        total_sales = forecast_results[pizza_id].sum()  # Ensure this matches your forecast results\n",
    "        \n",
    "        # Calculate total quantity of ingredient required\n",
    "        total_quantity = total_sales * quantity_needed\n",
    "        \n",
    "        # Store in dictionary\n",
    "        if ingredient_name in ingredient_requirements:\n",
    "            ingredient_requirements[ingredient_name] += total_quantity\n",
    "        else:\n",
    "            ingredient_requirements[ingredient_name] = total_quantity\n",
    "\n",
    "# Convert the results to a DataFrame\n",
    "ingredient_requirements_df = pd.DataFrame(list(ingredient_requirements.items()), columns=['Ingredient', 'Required Quantity (grams)'])\n",
    "\n",
    "# Save the ingredient requirements to a CSV file\n",
    "ingredient_requirements_df.to_csv('ingredient_requirements.csv', index=False)\n",
    "print(\"Ingredient requirements saved to 'ingredient_requirements.csv'.\")\n",
    "\n",
    "# Print the ingredient requirements\n",
    "print(ingredient_requirements_df)\n"
   ]
  }
 ],
 "metadata": {
  "kernelspec": {
   "display_name": "Python 3",
   "language": "python",
   "name": "python3"
  },
  "language_info": {
   "codemirror_mode": {
    "name": "ipython",
    "version": 3
   },
   "file_extension": ".py",
   "mimetype": "text/x-python",
   "name": "python",
   "nbconvert_exporter": "python",
   "pygments_lexer": "ipython3",
   "version": "3.12.3"
  }
 },
 "nbformat": 4,
 "nbformat_minor": 2
}
